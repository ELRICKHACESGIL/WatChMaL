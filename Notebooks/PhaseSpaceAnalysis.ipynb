{
 "cells": [
  {
   "cell_type": "code",
   "execution_count": 1,
   "id": "b3adfe96",
   "metadata": {},
   "outputs": [],
   "source": [
    "%load_ext autoreload\n",
    "%autoreload 2"
   ]
  },
  {
   "cell_type": "code",
   "execution_count": 1,
   "id": "51fc2204",
   "metadata": {},
   "outputs": [],
   "source": [
    "import numpy as np\n",
    "import matplotlib\n",
    "import matplotlib.pyplot as plt\n",
    "import sys\n",
    "import h5py\n",
    "import tabulate\n",
    "import pickle\n",
    "import awkward as ak"
   ]
  },
  {
   "cell_type": "code",
   "execution_count": 2,
   "id": "865ff0e2",
   "metadata": {},
   "outputs": [],
   "source": [
    "sys.path.append('/project/rpp-blairt2k/elrick/WatChMaL')\n",
    "from watchmal.dataset.h5_dataset import H5Dataset"
   ]
  },
  {
   "cell_type": "code",
   "execution_count": 3,
   "id": "26e55ade",
   "metadata": {},
   "outputs": [],
   "source": [
    "# Data paths\n",
    "data_pg = \"/project/rpp-blairt2k/machine_learning/data/IWCD_mPMT_Short/IWCD_mPMT_Short_emgp0_E0to1000MeV_digihits.h5\"\n",
    "\n",
    "electron_idx_pg_path = \"/project/rpp-blairt2k/machine_learning/data/IWCD_mPMT_Short/index_lists/1class_regression/IWCD_mPMT_Short_electrons_FC.npz\"\n",
    "muon_idx_pg_path = \"/project/rpp-blairt2k/machine_learning/data/IWCD_mPMT_Short/index_lists/1class_regression/IWCD_mPMT_Short_muons_FC.npz\""
   ]
  },
  {
   "cell_type": "code",
   "execution_count": 4,
   "id": "8592fbfa",
   "metadata": {},
   "outputs": [],
   "source": [
    "with np.load(electron_idx_pg_path, allow_pickle=True) as data_electron_PG:\n",
    "    idxs_electron_PG = data_electron_PG['test_idxs']\n",
    "\n",
    "with np.load(muon_idx_pg_path, allow_pickle=True) as data_muon_PG:\n",
    "    idxs_muon_PG = data_muon_PG['test_idxs']"
   ]
  },
  {
   "cell_type": "code",
   "execution_count": 5,
   "id": "673ae93b",
   "metadata": {},
   "outputs": [],
   "source": [
    "data = H5Dataset(data_pg)"
   ]
  },
  {
   "cell_type": "code",
   "execution_count": 6,
   "id": "58f461f0",
   "metadata": {},
   "outputs": [],
   "source": [
    "mean_HT_e = []\n",
    "mean_HT_mu = []"
   ]
  },
  {
   "cell_type": "code",
   "execution_count": 7,
   "id": "31e9286e",
   "metadata": {},
   "outputs": [],
   "source": [
    "for i in idxs_electron_PG:\n",
    "    data[i]\n",
    "    HTmean = np.mean(data.event_hit_times)\n",
    "    mean_HT_e.append(HTmean)"
   ]
  },
  {
   "cell_type": "code",
   "execution_count": null,
   "id": "08c5f334",
   "metadata": {},
   "outputs": [],
   "source": []
  }
 ],
 "metadata": {
  "kernelspec": {
   "display_name": "Python 3 (ipykernel)",
   "language": "python",
   "name": "python3"
  },
  "language_info": {
   "codemirror_mode": {
    "name": "ipython",
    "version": 3
   },
   "file_extension": ".py",
   "mimetype": "text/x-python",
   "name": "python",
   "nbconvert_exporter": "python",
   "pygments_lexer": "ipython3",
   "version": "3.10.12"
  }
 },
 "nbformat": 4,
 "nbformat_minor": 5
}

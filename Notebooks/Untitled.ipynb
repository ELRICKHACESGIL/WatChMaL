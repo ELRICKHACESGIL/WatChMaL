{
 "cells": [
  {
   "cell_type": "code",
   "execution_count": 1,
   "id": "46418447",
   "metadata": {},
   "outputs": [],
   "source": [
    "import numpy as np\n",
    "import matplotlib\n",
    "import matplotlib.pyplot as plt\n",
    "import sys\n",
    "import h5py\n",
    "import tabulate\n",
    "import pickle\n",
    "import awkward as ak\n",
    "import uproot "
   ]
  },
  {
   "cell_type": "code",
   "execution_count": 2,
   "id": "7bb19c77",
   "metadata": {},
   "outputs": [],
   "source": [
    "electronPath = '/project/rpp-blairt2k/ryom/HK_beta_prod_IWCD/V01/em_500MeV_1/wcsr'\n",
    "muonPath = '/project/rpp-blairt2k/ryom/HK_beta_prod_IWCD/V01/mum_500MeV_1/wcsr'"
   ]
  },
  {
   "cell_type": "code",
   "execution_count": 4,
   "id": "70331e50",
   "metadata": {},
   "outputs": [
    {
     "name": "stdout",
     "output_type": "stream",
     "text": [
      "['Settings;2', 'Settings;1', 'wcsimGeoT;2', 'wcsimGeoT;1', 'wcsimT;3', 'wcsimT;2', 'wcsimRootOptionsT;2', 'wcsimRootOptionsT;1']\n"
     ]
    }
   ],
   "source": [
    "file = uproot.open('/home/elrick/projects/rpp-blairt2k/ryom/HK_beta_prod_IWCD/V01/em_500MeV_1/wcsr/WCSim_IWCD_em_500MeV_1_00000000-0000_wcsr.root')\n",
    "\n",
    "print(file.keys())"
   ]
  },
  {
   "cell_type": "code",
   "execution_count": null,
   "id": "30af4a62",
   "metadata": {},
   "outputs": [],
   "source": []
  }
 ],
 "metadata": {
  "kernelspec": {
   "display_name": "Python 3 (ipykernel)",
   "language": "python",
   "name": "python3"
  },
  "language_info": {
   "codemirror_mode": {
    "name": "ipython",
    "version": 3
   },
   "file_extension": ".py",
   "mimetype": "text/x-python",
   "name": "python",
   "nbconvert_exporter": "python",
   "pygments_lexer": "ipython3",
   "version": "3.10.12"
  }
 },
 "nbformat": 4,
 "nbformat_minor": 5
}
